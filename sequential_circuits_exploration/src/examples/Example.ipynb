{
 "cells": [
  {
   "cell_type": "code",
   "execution_count": 1,
   "source": [
    "\n",
    "from SGCE.circuitsDatabase import *\n",
    "\n"
   ],
   "outputs": [],
   "metadata": {}
  },
  {
   "cell_type": "code",
   "execution_count": 2,
   "source": [
    "conectionString=\"mongodb://localhost:49153/\"\n",
    "database = CircuitDatabase(conectionString=conectionString,\n",
    "                           databaseName=\"TEST\")\n",
    "db=database.db"
   ],
   "outputs": [],
   "metadata": {}
  },
  {
   "cell_type": "code",
   "execution_count": 17,
   "source": [
    "db.employees.insert_many([{ \"_id\" : 1, \"name\" : \"Dev\" },\n",
    "{ \"_id\" : 2, \"name\" : \"Eliot\", \"reportsTo\" : \"Dev\" },\n",
    "{ \"_id\" : 3, \"name\" : \"Ron\", \"reportsTo\" : \"Eliot\" },\n",
    "{ \"_id\" : 4, \"name\" : \"Andrew\", \"reportsTo\" : \"Eliot\" },\n",
    "{ \"_id\" : 5, \"name\" : \"Asya\", \"reportsTo\" : \"Ron\" },\n",
    "{ \"_id\" : 6, \"name\" : \"Dan\", \"reportsTo\" : \"Andrew\" }])"
   ],
   "outputs": [
    {
     "output_type": "error",
     "ename": "BulkWriteError",
     "evalue": "batch op errors occurred, full error: {'writeErrors': [{'index': 0, 'code': 11000, 'keyPattern': {'_id': 1}, 'keyValue': {'_id': 1}, 'errmsg': 'E11000 duplicate key error collection: TEST.employees index: _id_ dup key: { _id: 1 }', 'op': {'_id': 1, 'name': 'Dev'}}], 'writeConcernErrors': [], 'nInserted': 0, 'nUpserted': 0, 'nMatched': 0, 'nModified': 0, 'nRemoved': 0, 'upserted': []}",
     "traceback": [
      "\u001b[0;31m---------------------------------------------------------------------------\u001b[0m",
      "\u001b[0;31mBulkWriteError\u001b[0m                            Traceback (most recent call last)",
      "\u001b[0;32m/tmp/ipykernel_692305/306430613.py\u001b[0m in \u001b[0;36m<module>\u001b[0;34m\u001b[0m\n\u001b[0;32m----> 1\u001b[0;31m db.employees.insert_many([{ \"_id\" : 1, \"name\" : \"Dev\" },\n\u001b[0m\u001b[1;32m      2\u001b[0m \u001b[0;34m{\u001b[0m \u001b[0;34m\"_id\"\u001b[0m \u001b[0;34m:\u001b[0m \u001b[0;36m2\u001b[0m\u001b[0;34m,\u001b[0m \u001b[0;34m\"name\"\u001b[0m \u001b[0;34m:\u001b[0m \u001b[0;34m\"Eliot\"\u001b[0m\u001b[0;34m,\u001b[0m \u001b[0;34m\"reportsTo\"\u001b[0m \u001b[0;34m:\u001b[0m \u001b[0;34m\"Dev\"\u001b[0m \u001b[0;34m}\u001b[0m\u001b[0;34m,\u001b[0m\u001b[0;34m\u001b[0m\u001b[0;34m\u001b[0m\u001b[0m\n\u001b[1;32m      3\u001b[0m \u001b[0;34m{\u001b[0m \u001b[0;34m\"_id\"\u001b[0m \u001b[0;34m:\u001b[0m \u001b[0;36m3\u001b[0m\u001b[0;34m,\u001b[0m \u001b[0;34m\"name\"\u001b[0m \u001b[0;34m:\u001b[0m \u001b[0;34m\"Ron\"\u001b[0m\u001b[0;34m,\u001b[0m \u001b[0;34m\"reportsTo\"\u001b[0m \u001b[0;34m:\u001b[0m \u001b[0;34m\"Eliot\"\u001b[0m \u001b[0;34m}\u001b[0m\u001b[0;34m,\u001b[0m\u001b[0;34m\u001b[0m\u001b[0;34m\u001b[0m\u001b[0m\n\u001b[1;32m      4\u001b[0m \u001b[0;34m{\u001b[0m \u001b[0;34m\"_id\"\u001b[0m \u001b[0;34m:\u001b[0m \u001b[0;36m4\u001b[0m\u001b[0;34m,\u001b[0m \u001b[0;34m\"name\"\u001b[0m \u001b[0;34m:\u001b[0m \u001b[0;34m\"Andrew\"\u001b[0m\u001b[0;34m,\u001b[0m \u001b[0;34m\"reportsTo\"\u001b[0m \u001b[0;34m:\u001b[0m \u001b[0;34m\"Eliot\"\u001b[0m \u001b[0;34m}\u001b[0m\u001b[0;34m,\u001b[0m\u001b[0;34m\u001b[0m\u001b[0;34m\u001b[0m\u001b[0m\n\u001b[1;32m      5\u001b[0m \u001b[0;34m{\u001b[0m \u001b[0;34m\"_id\"\u001b[0m \u001b[0;34m:\u001b[0m \u001b[0;36m5\u001b[0m\u001b[0;34m,\u001b[0m \u001b[0;34m\"name\"\u001b[0m \u001b[0;34m:\u001b[0m \u001b[0;34m\"Asya\"\u001b[0m\u001b[0;34m,\u001b[0m \u001b[0;34m\"reportsTo\"\u001b[0m \u001b[0;34m:\u001b[0m \u001b[0;34m\"Ron\"\u001b[0m \u001b[0;34m}\u001b[0m\u001b[0;34m,\u001b[0m\u001b[0;34m\u001b[0m\u001b[0;34m\u001b[0m\u001b[0m\n",
      "\u001b[0;32m~/.local/lib/python3.9/site-packages/pymongo/collection.py\u001b[0m in \u001b[0;36minsert_many\u001b[0;34m(self, documents, ordered, bypass_document_validation, session)\u001b[0m\n\u001b[1;32m    768\u001b[0m         \u001b[0mblk\u001b[0m \u001b[0;34m=\u001b[0m \u001b[0m_Bulk\u001b[0m\u001b[0;34m(\u001b[0m\u001b[0mself\u001b[0m\u001b[0;34m,\u001b[0m \u001b[0mordered\u001b[0m\u001b[0;34m,\u001b[0m \u001b[0mbypass_document_validation\u001b[0m\u001b[0;34m)\u001b[0m\u001b[0;34m\u001b[0m\u001b[0;34m\u001b[0m\u001b[0m\n\u001b[1;32m    769\u001b[0m         \u001b[0mblk\u001b[0m\u001b[0;34m.\u001b[0m\u001b[0mops\u001b[0m \u001b[0;34m=\u001b[0m \u001b[0;34m[\u001b[0m\u001b[0mdoc\u001b[0m \u001b[0;32mfor\u001b[0m \u001b[0mdoc\u001b[0m \u001b[0;32min\u001b[0m \u001b[0mgen\u001b[0m\u001b[0;34m(\u001b[0m\u001b[0;34m)\u001b[0m\u001b[0;34m]\u001b[0m\u001b[0;34m\u001b[0m\u001b[0;34m\u001b[0m\u001b[0m\n\u001b[0;32m--> 770\u001b[0;31m         \u001b[0mblk\u001b[0m\u001b[0;34m.\u001b[0m\u001b[0mexecute\u001b[0m\u001b[0;34m(\u001b[0m\u001b[0mwrite_concern\u001b[0m\u001b[0;34m,\u001b[0m \u001b[0msession\u001b[0m\u001b[0;34m=\u001b[0m\u001b[0msession\u001b[0m\u001b[0;34m)\u001b[0m\u001b[0;34m\u001b[0m\u001b[0;34m\u001b[0m\u001b[0m\n\u001b[0m\u001b[1;32m    771\u001b[0m         \u001b[0;32mreturn\u001b[0m \u001b[0mInsertManyResult\u001b[0m\u001b[0;34m(\u001b[0m\u001b[0minserted_ids\u001b[0m\u001b[0;34m,\u001b[0m \u001b[0mwrite_concern\u001b[0m\u001b[0;34m.\u001b[0m\u001b[0macknowledged\u001b[0m\u001b[0;34m)\u001b[0m\u001b[0;34m\u001b[0m\u001b[0;34m\u001b[0m\u001b[0m\n\u001b[1;32m    772\u001b[0m \u001b[0;34m\u001b[0m\u001b[0m\n",
      "\u001b[0;32m~/.local/lib/python3.9/site-packages/pymongo/bulk.py\u001b[0m in \u001b[0;36mexecute\u001b[0;34m(self, write_concern, session)\u001b[0m\n\u001b[1;32m    527\u001b[0m                 \u001b[0mself\u001b[0m\u001b[0;34m.\u001b[0m\u001b[0mexecute_no_results\u001b[0m\u001b[0;34m(\u001b[0m\u001b[0msock_info\u001b[0m\u001b[0;34m,\u001b[0m \u001b[0mgenerator\u001b[0m\u001b[0;34m)\u001b[0m\u001b[0;34m\u001b[0m\u001b[0;34m\u001b[0m\u001b[0m\n\u001b[1;32m    528\u001b[0m         \u001b[0;32melse\u001b[0m\u001b[0;34m:\u001b[0m\u001b[0;34m\u001b[0m\u001b[0;34m\u001b[0m\u001b[0m\n\u001b[0;32m--> 529\u001b[0;31m             \u001b[0;32mreturn\u001b[0m \u001b[0mself\u001b[0m\u001b[0;34m.\u001b[0m\u001b[0mexecute_command\u001b[0m\u001b[0;34m(\u001b[0m\u001b[0mgenerator\u001b[0m\u001b[0;34m,\u001b[0m \u001b[0mwrite_concern\u001b[0m\u001b[0;34m,\u001b[0m \u001b[0msession\u001b[0m\u001b[0;34m)\u001b[0m\u001b[0;34m\u001b[0m\u001b[0;34m\u001b[0m\u001b[0m\n\u001b[0m\u001b[1;32m    530\u001b[0m \u001b[0;34m\u001b[0m\u001b[0m\n\u001b[1;32m    531\u001b[0m \u001b[0;34m\u001b[0m\u001b[0m\n",
      "\u001b[0;32m~/.local/lib/python3.9/site-packages/pymongo/bulk.py\u001b[0m in \u001b[0;36mexecute_command\u001b[0;34m(self, generator, write_concern, session)\u001b[0m\n\u001b[1;32m    362\u001b[0m \u001b[0;34m\u001b[0m\u001b[0m\n\u001b[1;32m    363\u001b[0m         \u001b[0;32mif\u001b[0m \u001b[0mfull_result\u001b[0m\u001b[0;34m[\u001b[0m\u001b[0;34m\"writeErrors\"\u001b[0m\u001b[0;34m]\u001b[0m \u001b[0;32mor\u001b[0m \u001b[0mfull_result\u001b[0m\u001b[0;34m[\u001b[0m\u001b[0;34m\"writeConcernErrors\"\u001b[0m\u001b[0;34m]\u001b[0m\u001b[0;34m:\u001b[0m\u001b[0;34m\u001b[0m\u001b[0;34m\u001b[0m\u001b[0m\n\u001b[0;32m--> 364\u001b[0;31m             \u001b[0m_raise_bulk_write_error\u001b[0m\u001b[0;34m(\u001b[0m\u001b[0mfull_result\u001b[0m\u001b[0;34m)\u001b[0m\u001b[0;34m\u001b[0m\u001b[0;34m\u001b[0m\u001b[0m\n\u001b[0m\u001b[1;32m    365\u001b[0m         \u001b[0;32mreturn\u001b[0m \u001b[0mfull_result\u001b[0m\u001b[0;34m\u001b[0m\u001b[0;34m\u001b[0m\u001b[0m\n\u001b[1;32m    366\u001b[0m \u001b[0;34m\u001b[0m\u001b[0m\n",
      "\u001b[0;32m~/.local/lib/python3.9/site-packages/pymongo/bulk.py\u001b[0m in \u001b[0;36m_raise_bulk_write_error\u001b[0;34m(full_result)\u001b[0m\n\u001b[1;32m    138\u001b[0m         full_result[\"writeErrors\"].sort(\n\u001b[1;32m    139\u001b[0m             key=lambda error: error[\"index\"])\n\u001b[0;32m--> 140\u001b[0;31m     \u001b[0;32mraise\u001b[0m \u001b[0mBulkWriteError\u001b[0m\u001b[0;34m(\u001b[0m\u001b[0mfull_result\u001b[0m\u001b[0;34m)\u001b[0m\u001b[0;34m\u001b[0m\u001b[0;34m\u001b[0m\u001b[0m\n\u001b[0m\u001b[1;32m    141\u001b[0m \u001b[0;34m\u001b[0m\u001b[0m\n\u001b[1;32m    142\u001b[0m \u001b[0;34m\u001b[0m\u001b[0m\n",
      "\u001b[0;31mBulkWriteError\u001b[0m: batch op errors occurred, full error: {'writeErrors': [{'index': 0, 'code': 11000, 'keyPattern': {'_id': 1}, 'keyValue': {'_id': 1}, 'errmsg': 'E11000 duplicate key error collection: TEST.employees index: _id_ dup key: { _id: 1 }', 'op': {'_id': 1, 'name': 'Dev'}}], 'writeConcernErrors': [], 'nInserted': 0, 'nUpserted': 0, 'nMatched': 0, 'nModified': 0, 'nRemoved': 0, 'upserted': []}"
     ]
    }
   ],
   "metadata": {
    "collapsed": true,
    "jupyter": {
     "outputs_hidden": true
    },
    "tags": []
   }
  },
  {
   "cell_type": "code",
   "execution_count": 30,
   "source": [
    "result= db.employees.aggregate( [\n",
    "   {\n",
    "      \"$graphLookup\": {\n",
    "         \"from\": \"employees\",\n",
    "         \"startWith\": \"$reportsTo\",\n",
    "         \"connectFromField\": \"reportsTo\",\n",
    "         \"connectToField\": \"name\",\n",
    "         \"as\": \"reportingHierarchy\"\n",
    "      }\n",
    "   }\n",
    "] )\n",
    "[*result]"
   ],
   "outputs": [
    {
     "output_type": "execute_result",
     "data": {
      "text/plain": [
       "[{'_id': 1, 'name': 'Dev', 'reportingHierarchy': []},\n",
       " {'_id': 2,\n",
       "  'name': 'Eliot',\n",
       "  'reportsTo': 'Dev',\n",
       "  'reportingHierarchy': [{'_id': 1, 'name': 'Dev'}]},\n",
       " {'_id': 3,\n",
       "  'name': 'Ron',\n",
       "  'reportsTo': 'Eliot',\n",
       "  'reportingHierarchy': [{'_id': 1, 'name': 'Dev'},\n",
       "   {'_id': 2, 'name': 'Eliot', 'reportsTo': 'Dev'}]},\n",
       " {'_id': 4,\n",
       "  'name': 'Andrew',\n",
       "  'reportsTo': 'Eliot',\n",
       "  'reportingHierarchy': [{'_id': 1, 'name': 'Dev'},\n",
       "   {'_id': 2, 'name': 'Eliot', 'reportsTo': 'Dev'}]},\n",
       " {'_id': 5,\n",
       "  'name': 'Asya',\n",
       "  'reportsTo': 'Ron',\n",
       "  'reportingHierarchy': [{'_id': 1, 'name': 'Dev'},\n",
       "   {'_id': 3, 'name': 'Ron', 'reportsTo': 'Eliot'},\n",
       "   {'_id': 2, 'name': 'Eliot', 'reportsTo': 'Dev'}]},\n",
       " {'_id': 6,\n",
       "  'name': 'Dan',\n",
       "  'reportsTo': 'Andrew',\n",
       "  'reportingHierarchy': [{'_id': 1, 'name': 'Dev'},\n",
       "   {'_id': 4, 'name': 'Andrew', 'reportsTo': 'Eliot'},\n",
       "   {'_id': 2, 'name': 'Eliot', 'reportsTo': 'Dev'}]}]"
      ]
     },
     "metadata": {},
     "execution_count": 30
    }
   ],
   "metadata": {}
  },
  {
   "cell_type": "code",
   "execution_count": 28,
   "source": [],
   "outputs": [
    {
     "output_type": "execute_result",
     "data": {
      "text/plain": [
       "[{'_id': 1, 'name': 'Dev', 'reportingHierarchy': []},\n",
       " {'_id': 2,\n",
       "  'name': 'Eliot',\n",
       "  'reportsTo': 'Dev',\n",
       "  'reportingHierarchy': [{'_id': 1, 'name': 'Dev'}]},\n",
       " {'_id': 3,\n",
       "  'name': 'Ron',\n",
       "  'reportsTo': 'Eliot',\n",
       "  'reportingHierarchy': [{'_id': 1, 'name': 'Dev'},\n",
       "   {'_id': 2, 'name': 'Eliot', 'reportsTo': 'Dev'}]},\n",
       " {'_id': 4,\n",
       "  'name': 'Andrew',\n",
       "  'reportsTo': 'Eliot',\n",
       "  'reportingHierarchy': [{'_id': 1, 'name': 'Dev'},\n",
       "   {'_id': 2, 'name': 'Eliot', 'reportsTo': 'Dev'}]},\n",
       " {'_id': 5,\n",
       "  'name': 'Asya',\n",
       "  'reportsTo': 'Ron',\n",
       "  'reportingHierarchy': [{'_id': 1, 'name': 'Dev'},\n",
       "   {'_id': 3, 'name': 'Ron', 'reportsTo': 'Eliot'},\n",
       "   {'_id': 2, 'name': 'Eliot', 'reportsTo': 'Dev'}]},\n",
       " {'_id': 6,\n",
       "  'name': 'Dan',\n",
       "  'reportsTo': 'Andrew',\n",
       "  'reportingHierarchy': [{'_id': 1, 'name': 'Dev'},\n",
       "   {'_id': 4, 'name': 'Andrew', 'reportsTo': 'Eliot'},\n",
       "   {'_id': 2, 'name': 'Eliot', 'reportsTo': 'Dev'}]}]"
      ]
     },
     "metadata": {},
     "execution_count": 28
    }
   ],
   "metadata": {}
  },
  {
   "cell_type": "code",
   "execution_count": 26,
   "source": [
    "db.people.insert_many([{\n",
    "  \"_id\" : 1,\n",
    "  \"name\" : \"Tanya Jordan\",\n",
    "  \"friends\" : [ \"Shirley Soto\", \"Terry Hawkins\", \"Carole Hale\" ],\n",
    "  \"hobbies\" : [ \"tennis\", \"unicycling\", \"golf\" ]\n",
    "},\n",
    "{\n",
    "  \"_id\" : 2,\n",
    "  \"name\" : \"Carole Hale\",\n",
    "  \"friends\" : [ \"Joseph Dennis\", \"Tanya Jordan\", \"Terry Hawkins\" ],\n",
    "  \"hobbies\" : [ \"archery\", \"golf\", \"woodworking\" ]\n",
    "},\n",
    "{\n",
    "  \"_id\" : 3,\n",
    "  \"name\" : \"Terry Hawkins\",\n",
    "  \"friends\" : [ \"Tanya Jordan\", \"Carole Hale\", \"Angelo Ward\" ],\n",
    "  \"hobbies\" : [ \"knitting\", \"frisbee\" ]\n",
    "},\n",
    "{\n",
    "  \"_id\" : 4,\n",
    "  \"name\" : \"Joseph Dennis\",\n",
    "  \"friends\" : [ \"Angelo Ward\", \"Carole Hale\" ],\n",
    "  \"hobbies\" : [ \"tennis\", \"golf\", \"topiary\" ]\n",
    "},\n",
    "{\n",
    "  \"_id\" : 5,\n",
    "  \"name\" : \"Angelo Ward\",\n",
    "  \"friends\" : [ \"Terry Hawkins\", \"Shirley Soto\", \"Joseph Dennis\" ],\n",
    "  \"hobbies\" : [ \"travel\", \"ceramics\", \"golf\" ]\n",
    "},\n",
    "{\n",
    "   \"_id\" : 6,\n",
    "   \"name\" : \"Shirley Soto\",\n",
    "   \"friends\" : [ \"Angelo Ward\", \"Tanya Jordan\", \"Carole Hale\" ],\n",
    "   \"hobbies\" : [ \"frisbee\", \"set theory\" ]\n",
    " }])"
   ],
   "outputs": [
    {
     "output_type": "error",
     "ename": "BulkWriteError",
     "evalue": "batch op errors occurred, full error: {'writeErrors': [{'index': 0, 'code': 11000, 'keyPattern': {'_id': 1}, 'keyValue': {'_id': 1}, 'errmsg': 'E11000 duplicate key error collection: TEST.people index: _id_ dup key: { _id: 1 }', 'op': {'_id': 1, 'name': 'Tanya Jordan', 'friends': ['Shirley Soto', 'Terry Hawkins', 'Carole Hale'], 'hobbies': ['tennis', 'unicycling', 'golf']}}], 'writeConcernErrors': [], 'nInserted': 0, 'nUpserted': 0, 'nMatched': 0, 'nModified': 0, 'nRemoved': 0, 'upserted': []}",
     "traceback": [
      "\u001b[0;31m---------------------------------------------------------------------------\u001b[0m",
      "\u001b[0;31mBulkWriteError\u001b[0m                            Traceback (most recent call last)",
      "\u001b[0;32m/tmp/ipykernel_3719/3734894372.py\u001b[0m in \u001b[0;36m<module>\u001b[0;34m\u001b[0m\n\u001b[0;32m----> 1\u001b[0;31m db.people.insert_many([{\n\u001b[0m\u001b[1;32m      2\u001b[0m   \u001b[0;34m\"_id\"\u001b[0m \u001b[0;34m:\u001b[0m \u001b[0;36m1\u001b[0m\u001b[0;34m,\u001b[0m\u001b[0;34m\u001b[0m\u001b[0;34m\u001b[0m\u001b[0m\n\u001b[1;32m      3\u001b[0m   \u001b[0;34m\"name\"\u001b[0m \u001b[0;34m:\u001b[0m \u001b[0;34m\"Tanya Jordan\"\u001b[0m\u001b[0;34m,\u001b[0m\u001b[0;34m\u001b[0m\u001b[0;34m\u001b[0m\u001b[0m\n\u001b[1;32m      4\u001b[0m   \u001b[0;34m\"friends\"\u001b[0m \u001b[0;34m:\u001b[0m \u001b[0;34m[\u001b[0m \u001b[0;34m\"Shirley Soto\"\u001b[0m\u001b[0;34m,\u001b[0m \u001b[0;34m\"Terry Hawkins\"\u001b[0m\u001b[0;34m,\u001b[0m \u001b[0;34m\"Carole Hale\"\u001b[0m \u001b[0;34m]\u001b[0m\u001b[0;34m,\u001b[0m\u001b[0;34m\u001b[0m\u001b[0;34m\u001b[0m\u001b[0m\n\u001b[1;32m      5\u001b[0m   \u001b[0;34m\"hobbies\"\u001b[0m \u001b[0;34m:\u001b[0m \u001b[0;34m[\u001b[0m \u001b[0;34m\"tennis\"\u001b[0m\u001b[0;34m,\u001b[0m \u001b[0;34m\"unicycling\"\u001b[0m\u001b[0;34m,\u001b[0m \u001b[0;34m\"golf\"\u001b[0m \u001b[0;34m]\u001b[0m\u001b[0;34m\u001b[0m\u001b[0;34m\u001b[0m\u001b[0m\n",
      "\u001b[0;32m~/.local/lib/python3.9/site-packages/pymongo/collection.py\u001b[0m in \u001b[0;36minsert_many\u001b[0;34m(self, documents, ordered, bypass_document_validation, session)\u001b[0m\n\u001b[1;32m    768\u001b[0m         \u001b[0mblk\u001b[0m \u001b[0;34m=\u001b[0m \u001b[0m_Bulk\u001b[0m\u001b[0;34m(\u001b[0m\u001b[0mself\u001b[0m\u001b[0;34m,\u001b[0m \u001b[0mordered\u001b[0m\u001b[0;34m,\u001b[0m \u001b[0mbypass_document_validation\u001b[0m\u001b[0;34m)\u001b[0m\u001b[0;34m\u001b[0m\u001b[0;34m\u001b[0m\u001b[0m\n\u001b[1;32m    769\u001b[0m         \u001b[0mblk\u001b[0m\u001b[0;34m.\u001b[0m\u001b[0mops\u001b[0m \u001b[0;34m=\u001b[0m \u001b[0;34m[\u001b[0m\u001b[0mdoc\u001b[0m \u001b[0;32mfor\u001b[0m \u001b[0mdoc\u001b[0m \u001b[0;32min\u001b[0m \u001b[0mgen\u001b[0m\u001b[0;34m(\u001b[0m\u001b[0;34m)\u001b[0m\u001b[0;34m]\u001b[0m\u001b[0;34m\u001b[0m\u001b[0;34m\u001b[0m\u001b[0m\n\u001b[0;32m--> 770\u001b[0;31m         \u001b[0mblk\u001b[0m\u001b[0;34m.\u001b[0m\u001b[0mexecute\u001b[0m\u001b[0;34m(\u001b[0m\u001b[0mwrite_concern\u001b[0m\u001b[0;34m,\u001b[0m \u001b[0msession\u001b[0m\u001b[0;34m=\u001b[0m\u001b[0msession\u001b[0m\u001b[0;34m)\u001b[0m\u001b[0;34m\u001b[0m\u001b[0;34m\u001b[0m\u001b[0m\n\u001b[0m\u001b[1;32m    771\u001b[0m         \u001b[0;32mreturn\u001b[0m \u001b[0mInsertManyResult\u001b[0m\u001b[0;34m(\u001b[0m\u001b[0minserted_ids\u001b[0m\u001b[0;34m,\u001b[0m \u001b[0mwrite_concern\u001b[0m\u001b[0;34m.\u001b[0m\u001b[0macknowledged\u001b[0m\u001b[0;34m)\u001b[0m\u001b[0;34m\u001b[0m\u001b[0;34m\u001b[0m\u001b[0m\n\u001b[1;32m    772\u001b[0m \u001b[0;34m\u001b[0m\u001b[0m\n",
      "\u001b[0;32m~/.local/lib/python3.9/site-packages/pymongo/bulk.py\u001b[0m in \u001b[0;36mexecute\u001b[0;34m(self, write_concern, session)\u001b[0m\n\u001b[1;32m    527\u001b[0m                 \u001b[0mself\u001b[0m\u001b[0;34m.\u001b[0m\u001b[0mexecute_no_results\u001b[0m\u001b[0;34m(\u001b[0m\u001b[0msock_info\u001b[0m\u001b[0;34m,\u001b[0m \u001b[0mgenerator\u001b[0m\u001b[0;34m)\u001b[0m\u001b[0;34m\u001b[0m\u001b[0;34m\u001b[0m\u001b[0m\n\u001b[1;32m    528\u001b[0m         \u001b[0;32melse\u001b[0m\u001b[0;34m:\u001b[0m\u001b[0;34m\u001b[0m\u001b[0;34m\u001b[0m\u001b[0m\n\u001b[0;32m--> 529\u001b[0;31m             \u001b[0;32mreturn\u001b[0m \u001b[0mself\u001b[0m\u001b[0;34m.\u001b[0m\u001b[0mexecute_command\u001b[0m\u001b[0;34m(\u001b[0m\u001b[0mgenerator\u001b[0m\u001b[0;34m,\u001b[0m \u001b[0mwrite_concern\u001b[0m\u001b[0;34m,\u001b[0m \u001b[0msession\u001b[0m\u001b[0;34m)\u001b[0m\u001b[0;34m\u001b[0m\u001b[0;34m\u001b[0m\u001b[0m\n\u001b[0m\u001b[1;32m    530\u001b[0m \u001b[0;34m\u001b[0m\u001b[0m\n\u001b[1;32m    531\u001b[0m \u001b[0;34m\u001b[0m\u001b[0m\n",
      "\u001b[0;32m~/.local/lib/python3.9/site-packages/pymongo/bulk.py\u001b[0m in \u001b[0;36mexecute_command\u001b[0;34m(self, generator, write_concern, session)\u001b[0m\n\u001b[1;32m    362\u001b[0m \u001b[0;34m\u001b[0m\u001b[0m\n\u001b[1;32m    363\u001b[0m         \u001b[0;32mif\u001b[0m \u001b[0mfull_result\u001b[0m\u001b[0;34m[\u001b[0m\u001b[0;34m\"writeErrors\"\u001b[0m\u001b[0;34m]\u001b[0m \u001b[0;32mor\u001b[0m \u001b[0mfull_result\u001b[0m\u001b[0;34m[\u001b[0m\u001b[0;34m\"writeConcernErrors\"\u001b[0m\u001b[0;34m]\u001b[0m\u001b[0;34m:\u001b[0m\u001b[0;34m\u001b[0m\u001b[0;34m\u001b[0m\u001b[0m\n\u001b[0;32m--> 364\u001b[0;31m             \u001b[0m_raise_bulk_write_error\u001b[0m\u001b[0;34m(\u001b[0m\u001b[0mfull_result\u001b[0m\u001b[0;34m)\u001b[0m\u001b[0;34m\u001b[0m\u001b[0;34m\u001b[0m\u001b[0m\n\u001b[0m\u001b[1;32m    365\u001b[0m         \u001b[0;32mreturn\u001b[0m \u001b[0mfull_result\u001b[0m\u001b[0;34m\u001b[0m\u001b[0;34m\u001b[0m\u001b[0m\n\u001b[1;32m    366\u001b[0m \u001b[0;34m\u001b[0m\u001b[0m\n",
      "\u001b[0;32m~/.local/lib/python3.9/site-packages/pymongo/bulk.py\u001b[0m in \u001b[0;36m_raise_bulk_write_error\u001b[0;34m(full_result)\u001b[0m\n\u001b[1;32m    138\u001b[0m         full_result[\"writeErrors\"].sort(\n\u001b[1;32m    139\u001b[0m             key=lambda error: error[\"index\"])\n\u001b[0;32m--> 140\u001b[0;31m     \u001b[0;32mraise\u001b[0m \u001b[0mBulkWriteError\u001b[0m\u001b[0;34m(\u001b[0m\u001b[0mfull_result\u001b[0m\u001b[0;34m)\u001b[0m\u001b[0;34m\u001b[0m\u001b[0;34m\u001b[0m\u001b[0m\n\u001b[0m\u001b[1;32m    141\u001b[0m \u001b[0;34m\u001b[0m\u001b[0m\n\u001b[1;32m    142\u001b[0m \u001b[0;34m\u001b[0m\u001b[0m\n",
      "\u001b[0;31mBulkWriteError\u001b[0m: batch op errors occurred, full error: {'writeErrors': [{'index': 0, 'code': 11000, 'keyPattern': {'_id': 1}, 'keyValue': {'_id': 1}, 'errmsg': 'E11000 duplicate key error collection: TEST.people index: _id_ dup key: { _id: 1 }', 'op': {'_id': 1, 'name': 'Tanya Jordan', 'friends': ['Shirley Soto', 'Terry Hawkins', 'Carole Hale'], 'hobbies': ['tennis', 'unicycling', 'golf']}}], 'writeConcernErrors': [], 'nInserted': 0, 'nUpserted': 0, 'nMatched': 0, 'nModified': 0, 'nRemoved': 0, 'upserted': []}"
     ]
    }
   ],
   "metadata": {
    "collapsed": true,
    "jupyter": {
     "outputs_hidden": true
    },
    "tags": []
   }
  },
  {
   "cell_type": "code",
   "execution_count": 25,
   "source": [
    "result = db['people'].aggregate([\n",
    "    {\n",
    "        '$match': {\n",
    "            'name': 'Tanya Jordan'\n",
    "        }\n",
    "    }, {\n",
    "        '$graphLookup': {\n",
    "            'from': 'people', \n",
    "            'startWith': '$friends', \n",
    "            'connectFromField': 'friends', \n",
    "            'connectToField': 'name', \n",
    "            'as': 'golfers', \n",
    "            'restrictSearchWithMatch': {\n",
    "                'hobbies': 'golf'\n",
    "            }\n",
    "        }\n",
    "    }, {\n",
    "        '$project': {\n",
    "            'name': 1, \n",
    "            'friends': 1, \n",
    "            'connections who play golf': '$golfers.name'\n",
    "        }\n",
    "    }\n",
    "])\n",
    "\n",
    "[*result]\n",
    "\n"
   ],
   "outputs": [
    {
     "output_type": "execute_result",
     "data": {
      "text/plain": [
       "[{'_id': 1,\n",
       "  'name': 'Tanya Jordan',\n",
       "  'friends': ['Shirley Soto', 'Terry Hawkins', 'Carole Hale'],\n",
       "  'connections who play golf': ['Tanya Jordan',\n",
       "   'Joseph Dennis',\n",
       "   'Carole Hale',\n",
       "   'Angelo Ward']}]"
      ]
     },
     "metadata": {},
     "execution_count": 25
    }
   ],
   "metadata": {}
  },
  {
   "cell_type": "code",
   "execution_count": 24,
   "source": [
    "result = db['people'].aggregate([\n",
    "    {\n",
    "        '$match': {\n",
    "            'name': 'Tanya Jordan'\n",
    "        }\n",
    "    }, {\n",
    "        '$graphLookup': {\n",
    "            'from': 'people', \n",
    "            'startWith': '$friends', \n",
    "            'connectFromField': 'friends', \n",
    "            'connectToField': 'name', \n",
    "            'as': 'golfers', \n",
    "            'restrictSearchWithMatch': {\n",
    "                'hobbies': 'golf'\n",
    "            }\n",
    "        }\n",
    "    }\n",
    "])\n",
    "\n",
    "[*result]\n",
    "\n"
   ],
   "outputs": [
    {
     "output_type": "execute_result",
     "data": {
      "text/plain": [
       "[{'_id': 1,\n",
       "  'name': 'Tanya Jordan',\n",
       "  'friends': ['Shirley Soto', 'Terry Hawkins', 'Carole Hale'],\n",
       "  'hobbies': ['tennis', 'unicycling', 'golf'],\n",
       "  'golfers': [{'_id': 1,\n",
       "    'name': 'Tanya Jordan',\n",
       "    'friends': ['Shirley Soto', 'Terry Hawkins', 'Carole Hale'],\n",
       "    'hobbies': ['tennis', 'unicycling', 'golf']},\n",
       "   {'_id': 4,\n",
       "    'name': 'Joseph Dennis',\n",
       "    'friends': ['Angelo Ward', 'Carole Hale'],\n",
       "    'hobbies': ['tennis', 'golf', 'topiary']},\n",
       "   {'_id': 2,\n",
       "    'name': 'Carole Hale',\n",
       "    'friends': ['Joseph Dennis', 'Tanya Jordan', 'Terry Hawkins'],\n",
       "    'hobbies': ['archery', 'golf', 'woodworking']},\n",
       "   {'_id': 5,\n",
       "    'name': 'Angelo Ward',\n",
       "    'friends': ['Terry Hawkins', 'Shirley Soto', 'Joseph Dennis'],\n",
       "    'hobbies': ['travel', 'ceramics', 'golf']}]}]"
      ]
     },
     "metadata": {},
     "execution_count": 24
    }
   ],
   "metadata": {}
  },
  {
   "cell_type": "code",
   "execution_count": null,
   "source": [],
   "outputs": [],
   "metadata": {}
  },
  {
   "cell_type": "code",
   "execution_count": null,
   "source": [],
   "outputs": [],
   "metadata": {}
  },
  {
   "cell_type": "code",
   "execution_count": null,
   "source": [],
   "outputs": [],
   "metadata": {}
  },
  {
   "cell_type": "code",
   "execution_count": null,
   "source": [],
   "outputs": [],
   "metadata": {}
  },
  {
   "cell_type": "code",
   "execution_count": 15,
   "source": [
    "db.people_object.insert_many([{\n",
    "  \"_id\" : 1,\n",
    "  \"name\" : \"Tanya Jordan\",\n",
    "  \"friends\" : [  {\"name\":\"Shirley Soto\"},  {\"name\":\"Terry Hawkins\"},  {\"name\":\"Carole Hale\"} ],\n",
    "  \"hobbies\" : [ \"tennis\", \"unicycling\", \"golf\" ]\n",
    "},\n",
    "{\n",
    "  \"_id\" : 2,\n",
    "  \"name\" : \"Carole Hale\",\n",
    "  \"friends\" : [ {\"name\":\"Joseph Dennis\"}, {\"name\":\"Tanya Jordan\"}, {\"name\":\"Terry Hawkins\"}],\n",
    "  \"hobbies\" : [ \"archery\", \"golf\", \"woodworking\" ]\n",
    "},\n",
    "{\n",
    "  \"_id\" : 3,\n",
    "  \"name\" : \"Terry Hawkins\",\n",
    "  \"friends\" : [ {\"name\":\"Tanya Jordan\"}, {\"name\":\"Carole Hale\"}, {\"name\":\"Angelo Ward\" }],\n",
    "  \"hobbies\" : [ \"knitting\", \"frisbee\" ]\n",
    "},\n",
    "{\n",
    "  \"_id\" : 4,\n",
    "  \"name\" : \"Joseph Dennis\",\n",
    "  \"friends\" : [ {\"name\":\"Angelo Ward\"}, {\"name\":\"Carole Hale\"} ],\n",
    "  \"hobbies\" : [ \"tennis\", \"golf\", \"topiary\" ]\n",
    "},\n",
    "{\n",
    "  \"_id\" : 5,\n",
    "  \"name\" : \"Angelo Ward\",\n",
    "  \"friends\" : [ {\"name\":\"Terry Hawkins\"}, {\"name\":\"Shirley Soto\"}, {\"name\":\"Joseph Dennis\"} ],\n",
    "  \"hobbies\" : [ \"travel\", \"ceramics\", \"golf\" ]\n",
    "},\n",
    "{\n",
    "   \"_id\" : 6,\n",
    "   \"name\" : \"Shirley Soto\",\n",
    "   \"friends\" : [ {\"name\":\"Angelo Ward\"}, {\"name\":\"Tanya Jordan\"}, {\"name\":\"Carole Hale\"} ],\n",
    "   \"hobbies\" : [ \"frisbee\", \"set theory\" ]\n",
    " }])"
   ],
   "outputs": [
    {
     "output_type": "error",
     "ename": "BulkWriteError",
     "evalue": "batch op errors occurred, full error: {'writeErrors': [{'index': 0, 'code': 11000, 'keyPattern': {'_id': 1}, 'keyValue': {'_id': 1}, 'errmsg': 'E11000 duplicate key error collection: TEST.people_object index: _id_ dup key: { _id: 1 }', 'op': {'_id': 1, 'name': 'Tanya Jordan', 'friends': [{'name': 'Shirley Soto'}, {'name': 'Terry Hawkins'}, {'name': 'Carole Hale'}], 'hobbies': ['tennis', 'unicycling', 'golf']}}], 'writeConcernErrors': [], 'nInserted': 0, 'nUpserted': 0, 'nMatched': 0, 'nModified': 0, 'nRemoved': 0, 'upserted': []}",
     "traceback": [
      "\u001b[0;31m---------------------------------------------------------------------------\u001b[0m",
      "\u001b[0;31mBulkWriteError\u001b[0m                            Traceback (most recent call last)",
      "\u001b[0;32m/tmp/ipykernel_3719/2020303341.py\u001b[0m in \u001b[0;36m<module>\u001b[0;34m\u001b[0m\n\u001b[0;32m----> 1\u001b[0;31m db.people_object.insert_many([{\n\u001b[0m\u001b[1;32m      2\u001b[0m   \u001b[0;34m\"_id\"\u001b[0m \u001b[0;34m:\u001b[0m \u001b[0;36m1\u001b[0m\u001b[0;34m,\u001b[0m\u001b[0;34m\u001b[0m\u001b[0;34m\u001b[0m\u001b[0m\n\u001b[1;32m      3\u001b[0m   \u001b[0;34m\"name\"\u001b[0m \u001b[0;34m:\u001b[0m \u001b[0;34m\"Tanya Jordan\"\u001b[0m\u001b[0;34m,\u001b[0m\u001b[0;34m\u001b[0m\u001b[0;34m\u001b[0m\u001b[0m\n\u001b[1;32m      4\u001b[0m   \u001b[0;34m\"friends\"\u001b[0m \u001b[0;34m:\u001b[0m \u001b[0;34m[\u001b[0m  \u001b[0;34m{\u001b[0m\u001b[0;34m\"name\"\u001b[0m\u001b[0;34m:\u001b[0m\u001b[0;34m\"Shirley Soto\"\u001b[0m\u001b[0;34m}\u001b[0m\u001b[0;34m,\u001b[0m  \u001b[0;34m{\u001b[0m\u001b[0;34m\"name\"\u001b[0m\u001b[0;34m:\u001b[0m\u001b[0;34m\"Terry Hawkins\"\u001b[0m\u001b[0;34m}\u001b[0m\u001b[0;34m,\u001b[0m  \u001b[0;34m{\u001b[0m\u001b[0;34m\"name\"\u001b[0m\u001b[0;34m:\u001b[0m\u001b[0;34m\"Carole Hale\"\u001b[0m\u001b[0;34m}\u001b[0m \u001b[0;34m]\u001b[0m\u001b[0;34m,\u001b[0m\u001b[0;34m\u001b[0m\u001b[0;34m\u001b[0m\u001b[0m\n\u001b[1;32m      5\u001b[0m   \u001b[0;34m\"hobbies\"\u001b[0m \u001b[0;34m:\u001b[0m \u001b[0;34m[\u001b[0m \u001b[0;34m\"tennis\"\u001b[0m\u001b[0;34m,\u001b[0m \u001b[0;34m\"unicycling\"\u001b[0m\u001b[0;34m,\u001b[0m \u001b[0;34m\"golf\"\u001b[0m \u001b[0;34m]\u001b[0m\u001b[0;34m\u001b[0m\u001b[0;34m\u001b[0m\u001b[0m\n",
      "\u001b[0;32m~/.local/lib/python3.9/site-packages/pymongo/collection.py\u001b[0m in \u001b[0;36minsert_many\u001b[0;34m(self, documents, ordered, bypass_document_validation, session)\u001b[0m\n\u001b[1;32m    768\u001b[0m         \u001b[0mblk\u001b[0m \u001b[0;34m=\u001b[0m \u001b[0m_Bulk\u001b[0m\u001b[0;34m(\u001b[0m\u001b[0mself\u001b[0m\u001b[0;34m,\u001b[0m \u001b[0mordered\u001b[0m\u001b[0;34m,\u001b[0m \u001b[0mbypass_document_validation\u001b[0m\u001b[0;34m)\u001b[0m\u001b[0;34m\u001b[0m\u001b[0;34m\u001b[0m\u001b[0m\n\u001b[1;32m    769\u001b[0m         \u001b[0mblk\u001b[0m\u001b[0;34m.\u001b[0m\u001b[0mops\u001b[0m \u001b[0;34m=\u001b[0m \u001b[0;34m[\u001b[0m\u001b[0mdoc\u001b[0m \u001b[0;32mfor\u001b[0m \u001b[0mdoc\u001b[0m \u001b[0;32min\u001b[0m \u001b[0mgen\u001b[0m\u001b[0;34m(\u001b[0m\u001b[0;34m)\u001b[0m\u001b[0;34m]\u001b[0m\u001b[0;34m\u001b[0m\u001b[0;34m\u001b[0m\u001b[0m\n\u001b[0;32m--> 770\u001b[0;31m         \u001b[0mblk\u001b[0m\u001b[0;34m.\u001b[0m\u001b[0mexecute\u001b[0m\u001b[0;34m(\u001b[0m\u001b[0mwrite_concern\u001b[0m\u001b[0;34m,\u001b[0m \u001b[0msession\u001b[0m\u001b[0;34m=\u001b[0m\u001b[0msession\u001b[0m\u001b[0;34m)\u001b[0m\u001b[0;34m\u001b[0m\u001b[0;34m\u001b[0m\u001b[0m\n\u001b[0m\u001b[1;32m    771\u001b[0m         \u001b[0;32mreturn\u001b[0m \u001b[0mInsertManyResult\u001b[0m\u001b[0;34m(\u001b[0m\u001b[0minserted_ids\u001b[0m\u001b[0;34m,\u001b[0m \u001b[0mwrite_concern\u001b[0m\u001b[0;34m.\u001b[0m\u001b[0macknowledged\u001b[0m\u001b[0;34m)\u001b[0m\u001b[0;34m\u001b[0m\u001b[0;34m\u001b[0m\u001b[0m\n\u001b[1;32m    772\u001b[0m \u001b[0;34m\u001b[0m\u001b[0m\n",
      "\u001b[0;32m~/.local/lib/python3.9/site-packages/pymongo/bulk.py\u001b[0m in \u001b[0;36mexecute\u001b[0;34m(self, write_concern, session)\u001b[0m\n\u001b[1;32m    527\u001b[0m                 \u001b[0mself\u001b[0m\u001b[0;34m.\u001b[0m\u001b[0mexecute_no_results\u001b[0m\u001b[0;34m(\u001b[0m\u001b[0msock_info\u001b[0m\u001b[0;34m,\u001b[0m \u001b[0mgenerator\u001b[0m\u001b[0;34m)\u001b[0m\u001b[0;34m\u001b[0m\u001b[0;34m\u001b[0m\u001b[0m\n\u001b[1;32m    528\u001b[0m         \u001b[0;32melse\u001b[0m\u001b[0;34m:\u001b[0m\u001b[0;34m\u001b[0m\u001b[0;34m\u001b[0m\u001b[0m\n\u001b[0;32m--> 529\u001b[0;31m             \u001b[0;32mreturn\u001b[0m \u001b[0mself\u001b[0m\u001b[0;34m.\u001b[0m\u001b[0mexecute_command\u001b[0m\u001b[0;34m(\u001b[0m\u001b[0mgenerator\u001b[0m\u001b[0;34m,\u001b[0m \u001b[0mwrite_concern\u001b[0m\u001b[0;34m,\u001b[0m \u001b[0msession\u001b[0m\u001b[0;34m)\u001b[0m\u001b[0;34m\u001b[0m\u001b[0;34m\u001b[0m\u001b[0m\n\u001b[0m\u001b[1;32m    530\u001b[0m \u001b[0;34m\u001b[0m\u001b[0m\n\u001b[1;32m    531\u001b[0m \u001b[0;34m\u001b[0m\u001b[0m\n",
      "\u001b[0;32m~/.local/lib/python3.9/site-packages/pymongo/bulk.py\u001b[0m in \u001b[0;36mexecute_command\u001b[0;34m(self, generator, write_concern, session)\u001b[0m\n\u001b[1;32m    362\u001b[0m \u001b[0;34m\u001b[0m\u001b[0m\n\u001b[1;32m    363\u001b[0m         \u001b[0;32mif\u001b[0m \u001b[0mfull_result\u001b[0m\u001b[0;34m[\u001b[0m\u001b[0;34m\"writeErrors\"\u001b[0m\u001b[0;34m]\u001b[0m \u001b[0;32mor\u001b[0m \u001b[0mfull_result\u001b[0m\u001b[0;34m[\u001b[0m\u001b[0;34m\"writeConcernErrors\"\u001b[0m\u001b[0;34m]\u001b[0m\u001b[0;34m:\u001b[0m\u001b[0;34m\u001b[0m\u001b[0;34m\u001b[0m\u001b[0m\n\u001b[0;32m--> 364\u001b[0;31m             \u001b[0m_raise_bulk_write_error\u001b[0m\u001b[0;34m(\u001b[0m\u001b[0mfull_result\u001b[0m\u001b[0;34m)\u001b[0m\u001b[0;34m\u001b[0m\u001b[0;34m\u001b[0m\u001b[0m\n\u001b[0m\u001b[1;32m    365\u001b[0m         \u001b[0;32mreturn\u001b[0m \u001b[0mfull_result\u001b[0m\u001b[0;34m\u001b[0m\u001b[0;34m\u001b[0m\u001b[0m\n\u001b[1;32m    366\u001b[0m \u001b[0;34m\u001b[0m\u001b[0m\n",
      "\u001b[0;32m~/.local/lib/python3.9/site-packages/pymongo/bulk.py\u001b[0m in \u001b[0;36m_raise_bulk_write_error\u001b[0;34m(full_result)\u001b[0m\n\u001b[1;32m    138\u001b[0m         full_result[\"writeErrors\"].sort(\n\u001b[1;32m    139\u001b[0m             key=lambda error: error[\"index\"])\n\u001b[0;32m--> 140\u001b[0;31m     \u001b[0;32mraise\u001b[0m \u001b[0mBulkWriteError\u001b[0m\u001b[0;34m(\u001b[0m\u001b[0mfull_result\u001b[0m\u001b[0;34m)\u001b[0m\u001b[0;34m\u001b[0m\u001b[0;34m\u001b[0m\u001b[0m\n\u001b[0m\u001b[1;32m    141\u001b[0m \u001b[0;34m\u001b[0m\u001b[0m\n\u001b[1;32m    142\u001b[0m \u001b[0;34m\u001b[0m\u001b[0m\n",
      "\u001b[0;31mBulkWriteError\u001b[0m: batch op errors occurred, full error: {'writeErrors': [{'index': 0, 'code': 11000, 'keyPattern': {'_id': 1}, 'keyValue': {'_id': 1}, 'errmsg': 'E11000 duplicate key error collection: TEST.people_object index: _id_ dup key: { _id: 1 }', 'op': {'_id': 1, 'name': 'Tanya Jordan', 'friends': [{'name': 'Shirley Soto'}, {'name': 'Terry Hawkins'}, {'name': 'Carole Hale'}], 'hobbies': ['tennis', 'unicycling', 'golf']}}], 'writeConcernErrors': [], 'nInserted': 0, 'nUpserted': 0, 'nMatched': 0, 'nModified': 0, 'nRemoved': 0, 'upserted': []}"
     ]
    }
   ],
   "metadata": {
    "collapsed": true,
    "jupyter": {
     "outputs_hidden": true
    },
    "tags": []
   }
  },
  {
   "cell_type": "code",
   "execution_count": 23,
   "source": [
    "# Requires the PyMongo package.\n",
    "# https://api.mongodb.com/python/current\n",
    "\n",
    "result = db.people_object.aggregate([\n",
    "    {\n",
    "        '$match': {\n",
    "            'name': 'Tanya Jordan'\n",
    "        }\n",
    "    }, {\n",
    "        '$graphLookup': {\n",
    "            'from': 'people', \n",
    "            'startWith': '$friends', \n",
    "            'connectFromField': 'friends.name', \n",
    "            'connectToField': 'name', \n",
    "            'as': 'golfers', \n",
    "        }\n",
    "    }\n",
    "])\n",
    "\n",
    "[*result]"
   ],
   "outputs": [
    {
     "output_type": "execute_result",
     "data": {
      "text/plain": [
       "[{'_id': 1,\n",
       "  'name': 'Tanya Jordan',\n",
       "  'friends': [{'name': 'Shirley Soto'},\n",
       "   {'name': 'Terry Hawkins'},\n",
       "   {'name': 'Carole Hale'}],\n",
       "  'hobbies': ['tennis', 'unicycling', 'golf'],\n",
       "  'golfers': []}]"
      ]
     },
     "metadata": {},
     "execution_count": 23
    }
   ],
   "metadata": {
    "tags": []
   }
  },
  {
   "cell_type": "code",
   "execution_count": null,
   "source": [],
   "outputs": [],
   "metadata": {}
  },
  {
   "cell_type": "code",
   "execution_count": 50,
   "source": [
    "db.grafosimple.insert_many([\n",
    "  {\"name\": \"Paul\", \"followed_by\": []},\n",
    "  {\"name\": \"Toni\", \"followed_by\": [\"Paul\"]},\n",
    "  {\"name\": \"Janet\", \"followed_by\": [\"Paul\", \"Toni\"]},\n",
    "  {\"name\": \"David\", \"followed_by\": [\"Janet\", \"Paul\", \"Toni\"]},\n",
    "  {\"name\": \"Fiona\", \"followed_by\": [\"David\", \"Paul\"]},\n",
    "  {\"name\": \"Bob\", \"followed_by\": [\"Janet\"]},\n",
    "  {\"name\": \"Carl\", \"followed_by\": [\"Fiona\"]},\n",
    "  {\"name\": \"Sarah\", \"followed_by\": [\"Carl\", \"Paul\"]},\n",
    "  {\"name\": \"Carol\", \"followed_by\": [\"Helen\", \"Sarah\"]},\n",
    "  {\"name\": \"Helen\", \"followed_by\": [\"Paul\"]},\n",
    "])"
   ],
   "outputs": [
    {
     "output_type": "execute_result",
     "data": {
      "text/plain": [
       "<pymongo.results.InsertManyResult at 0x7fc0fc10e700>"
      ]
     },
     "metadata": {},
     "execution_count": 50
    }
   ],
   "metadata": {}
  },
  {
   "cell_type": "code",
   "execution_count": 53,
   "source": [
    "pipeline = [\n",
    "  # // For each social network user, graph traverse their 'followed_by' list of people\n",
    "  {\"$graphLookup\": {\n",
    "    \"from\": \"grafosimple\",\n",
    "    \"startWith\": \"$followed_by\",\n",
    "    \"connectFromField\": \"followed_by\",\n",
    "    \"connectToField\": \"name\",\n",
    "    \"depthField\": \"depth\",\n",
    "    \"as\": \"extended_network\",\n",
    "  }},\n",
    "\n",
    "  # // Add new accumulating fields\n",
    "  {\"$set\": {\n",
    "    # // Count the extended connection reach\n",
    "    \"network_reach\": {\n",
    "      \"$size\": \"$extended_network\"\n",
    "    },\n",
    "\n",
    "    # // Gather the list of the extended connections' names\n",
    "    \"extended_connections\": {\n",
    "      \"$map\": {\n",
    "        \"input\": \"$extended_network\",\n",
    "        \"as\": \"connection\",\n",
    "        \"in\": \"$$connection.name\", # // Just get name field from each array element\n",
    "      }\n",
    "    },    \n",
    "  }},\n",
    "    \n",
    "  # // Omit unwanted fields\n",
    "  {\"$unset\": [\n",
    "    \"_id\",\n",
    "    \"followed_by\",\n",
    "    \"extended_network\",\n",
    "  ]},   \n",
    "  \n",
    "  # // Sort by person with greatest network reach first, in descending order\n",
    "  {\"$sort\": {\n",
    "    \"network_reach\": -1,\n",
    "  }},   \n",
    "]\n"
   ],
   "outputs": [],
   "metadata": {}
  },
  {
   "cell_type": "code",
   "execution_count": 54,
   "source": [
    "results = db.grafosimple.aggregate(pipeline)\n",
    "[*results]"
   ],
   "outputs": [
    {
     "output_type": "execute_result",
     "data": {
      "text/plain": [
       "[{'name': 'Carol',\n",
       "  'network_reach': 8,\n",
       "  'extended_connections': ['David',\n",
       "   'Carl',\n",
       "   'Toni',\n",
       "   'Paul',\n",
       "   'Sarah',\n",
       "   'Janet',\n",
       "   'Fiona',\n",
       "   'Helen']},\n",
       " {'name': 'Sarah',\n",
       "  'network_reach': 6,\n",
       "  'extended_connections': ['David', 'Carl', 'Toni', 'Paul', 'Janet', 'Fiona']},\n",
       " {'name': 'Carl',\n",
       "  'network_reach': 5,\n",
       "  'extended_connections': ['David', 'Janet', 'Paul', 'Toni', 'Fiona']},\n",
       " {'name': 'Fiona',\n",
       "  'network_reach': 4,\n",
       "  'extended_connections': ['David', 'Toni', 'Paul', 'Janet']},\n",
       " {'name': 'David',\n",
       "  'network_reach': 3,\n",
       "  'extended_connections': ['Toni', 'Paul', 'Janet']},\n",
       " {'name': 'Bob',\n",
       "  'network_reach': 3,\n",
       "  'extended_connections': ['Janet', 'Paul', 'Toni']},\n",
       " {'name': 'Janet',\n",
       "  'network_reach': 2,\n",
       "  'extended_connections': ['Toni', 'Paul']},\n",
       " {'name': 'Toni', 'network_reach': 1, 'extended_connections': ['Paul']},\n",
       " {'name': 'Helen', 'network_reach': 1, 'extended_connections': ['Paul']},\n",
       " {'name': 'Paul', 'network_reach': 0, 'extended_connections': []}]"
      ]
     },
     "metadata": {},
     "execution_count": 54
    }
   ],
   "metadata": {}
  },
  {
   "cell_type": "code",
   "execution_count": 56,
   "source": [
    "pipeline2 = [\n",
    "  # // For each social network user, graph traverse their 'followed_by' list of people\n",
    "  {\"$graphLookup\": {\n",
    "    \"from\": \"grafosimple\",\n",
    "    \"startWith\": \"$followed_by\",\n",
    "    \"connectFromField\": \"followed_by\",\n",
    "    \"connectToField\": \"name\",\n",
    "    \"depthField\": \"depth\",\n",
    "    \"as\": \"extended_network\",\n",
    "  }},\n",
    "\n",
    "  # // Add new accumulating fields\n",
    "  {\"$set\": {\n",
    "    # // Count the extended connection reach\n",
    "    \"network_reach\": {\n",
    "      \"$size\": \"$extended_network\"\n",
    "    },\n",
    "\n",
    "    # // Gather the list of the extended connections' names\n",
    "    \"extended_connections\": {\n",
    "      \"$map\": {\n",
    "        \"input\": \"$extended_network\",\n",
    "        \"as\": \"connection\",\n",
    "        \"in\": \"$$connection.name\", # // Just get name field from each array element\n",
    "      }\n",
    "    },    \n",
    "  }},\n",
    "    \n",
    "  # // Omit unwanted fields\n",
    "  {\"$unset\": [\n",
    "    \"_id\",\n",
    "    \"followed_by\",\n",
    "    \"extended_network\",\n",
    "  ]},   \n",
    "  \n",
    "  # // Sort by person with greatest network reach first, in descending order\n",
    "  {\"$sort\": {\n",
    "    \"network_reach\": -1,\n",
    "  }},   \n",
    "]\n",
    "results = db.grafosimple.aggregate(pipeline2)\n",
    "[*results]"
   ],
   "outputs": [
    {
     "output_type": "execute_result",
     "data": {
      "text/plain": [
       "[{'name': 'Carol',\n",
       "  'network_reach': 8,\n",
       "  'extended_connections': ['Janet',\n",
       "   'Toni',\n",
       "   'Carl',\n",
       "   'David',\n",
       "   'Sarah',\n",
       "   'Paul',\n",
       "   'Fiona',\n",
       "   'Helen']},\n",
       " {'name': 'Sarah',\n",
       "  'network_reach': 6,\n",
       "  'extended_connections': ['Janet', 'Toni', 'Carl', 'David', 'Paul', 'Fiona']},\n",
       " {'name': 'Carl',\n",
       "  'network_reach': 5,\n",
       "  'extended_connections': ['Toni', 'Janet', 'David', 'Paul', 'Fiona']},\n",
       " {'name': 'Fiona',\n",
       "  'network_reach': 4,\n",
       "  'extended_connections': ['Janet', 'Toni', 'David', 'Paul']},\n",
       " {'name': 'David',\n",
       "  'network_reach': 3,\n",
       "  'extended_connections': ['Toni', 'Janet', 'Paul']},\n",
       " {'name': 'Bob',\n",
       "  'network_reach': 3,\n",
       "  'extended_connections': ['Janet', 'Toni', 'Paul']},\n",
       " {'name': 'Janet',\n",
       "  'network_reach': 2,\n",
       "  'extended_connections': ['Toni', 'Paul']},\n",
       " {'name': 'Toni', 'network_reach': 1, 'extended_connections': ['Paul']},\n",
       " {'name': 'Helen', 'network_reach': 1, 'extended_connections': ['Paul']},\n",
       " {'name': 'Paul', 'network_reach': 0, 'extended_connections': []}]"
      ]
     },
     "metadata": {},
     "execution_count": 56
    }
   ],
   "metadata": {}
  },
  {
   "cell_type": "code",
   "execution_count": 57,
   "source": [
    "digraph G {\n",
    "\n",
    "\n",
    "paul -> Janet\n",
    "Toni -> Janet\n",
    "\n",
    "paul -> Toni\n",
    "\n",
    "paul -> David\n",
    "Toni -> David\n",
    "Janet -> David\n",
    "\n",
    "paul -> Fiona\n",
    "David -> Fiona\n",
    "\n",
    "Janet -> Bob\n",
    "\n",
    "\n",
    "\n",
    "Fiona -> Carl\n",
    "\n",
    "paul -> Sarah\n",
    "Carl -> Sarah\n",
    "\n",
    "paul -> Helen\n",
    "\n",
    "Helen -> Carol\n",
    "Sarah -> Carol\n",
    "\n",
    "\n",
    "Bob -> Janet\n",
    "\n",
    "\n",
    "\n",
    "\n",
    "\n",
    "}"
   ],
   "outputs": [
    {
     "output_type": "error",
     "ename": "SyntaxError",
     "evalue": "invalid syntax (1558559812.py, line 1)",
     "traceback": [
      "\u001b[0;36m  File \u001b[0;32m\"/tmp/ipykernel_3719/1558559812.py\"\u001b[0;36m, line \u001b[0;32m1\u001b[0m\n\u001b[0;31m    digraph G {\u001b[0m\n\u001b[0m            ^\u001b[0m\n\u001b[0;31mSyntaxError\u001b[0m\u001b[0;31m:\u001b[0m invalid syntax\n"
     ]
    }
   ],
   "metadata": {}
  },
  {
   "cell_type": "code",
   "execution_count": 141,
   "source": [
    "from itertools import islice"
   ],
   "outputs": [],
   "metadata": {}
  },
  {
   "cell_type": "code",
   "execution_count": 142,
   "source": [
    "A = iter(range(10))"
   ],
   "outputs": [],
   "metadata": {}
  },
  {
   "cell_type": "code",
   "execution_count": 143,
   "source": [
    "[*islice(A, 3)]"
   ],
   "outputs": [
    {
     "output_type": "execute_result",
     "data": {
      "text/plain": [
       "[0, 1, 2]"
      ]
     },
     "metadata": {},
     "execution_count": 143
    }
   ],
   "metadata": {}
  },
  {
   "cell_type": "code",
   "execution_count": 144,
   "source": [
    "[*islice(A, 0,None)]"
   ],
   "outputs": [
    {
     "output_type": "execute_result",
     "data": {
      "text/plain": [
       "[3, 4, 5, 6, 7, 8, 9]"
      ]
     },
     "metadata": {},
     "execution_count": 144
    }
   ],
   "metadata": {}
  },
  {
   "cell_type": "code",
   "execution_count": 145,
   "source": [
    "for n in A:\n",
    "    print(n)"
   ],
   "outputs": [],
   "metadata": {}
  },
  {
   "cell_type": "code",
   "execution_count": 147,
   "source": [
    "A = {\"name\":\"jose\", \"id\":1}"
   ],
   "outputs": [],
   "metadata": {}
  },
  {
   "cell_type": "code",
   "execution_count": 150,
   "source": [
    "A.fiel"
   ],
   "outputs": [
    {
     "output_type": "execute_result",
     "data": {
      "text/plain": [
       "{'name': 'jose', 'id': 1}"
      ]
     },
     "metadata": {},
     "execution_count": 150
    }
   ],
   "metadata": {}
  },
  {
   "cell_type": "code",
   "execution_count": 151,
   "source": [
    "# But we can simply reconstruct recursively:\n",
    "def dataclass_from_dict(klass, dikt):\n",
    "    try:\n",
    "        fieldtypes = {f.name:f.type for f in datafields(klass)}\n",
    "        return klass(**{f:dataclass_from_dict(fieldtypes[f],dikt[f]) for f in dikt})\n",
    "    except:\n",
    "        return dikt"
   ],
   "outputs": [],
   "metadata": {}
  },
  {
   "cell_type": "code",
   "execution_count": 155,
   "source": [
    "fieldtypes = A.__annotations__  # this can be also simplified I believe\n",
    "{f: dataclass_from_dict(fieldtypes[f], A[f]) for f in A}"
   ],
   "outputs": [
    {
     "output_type": "error",
     "ename": "AttributeError",
     "evalue": "'dict' object has no attribute '__annotations__'",
     "traceback": [
      "\u001b[0;31m---------------------------------------------------------------------------\u001b[0m",
      "\u001b[0;31mAttributeError\u001b[0m                            Traceback (most recent call last)",
      "\u001b[0;32m/tmp/ipykernel_3719/4267742937.py\u001b[0m in \u001b[0;36m<module>\u001b[0;34m\u001b[0m\n\u001b[0;32m----> 1\u001b[0;31m \u001b[0mfieldtypes\u001b[0m \u001b[0;34m=\u001b[0m \u001b[0mA\u001b[0m\u001b[0;34m.\u001b[0m\u001b[0m__annotations__\u001b[0m  \u001b[0;31m# this can be also simplified I believe\u001b[0m\u001b[0;34m\u001b[0m\u001b[0;34m\u001b[0m\u001b[0m\n\u001b[0m\u001b[1;32m      2\u001b[0m \u001b[0;34m{\u001b[0m\u001b[0mf\u001b[0m\u001b[0;34m:\u001b[0m \u001b[0mdataclass_from_dict\u001b[0m\u001b[0;34m(\u001b[0m\u001b[0mfieldtypes\u001b[0m\u001b[0;34m[\u001b[0m\u001b[0mf\u001b[0m\u001b[0;34m]\u001b[0m\u001b[0;34m,\u001b[0m \u001b[0mA\u001b[0m\u001b[0;34m[\u001b[0m\u001b[0mf\u001b[0m\u001b[0;34m]\u001b[0m\u001b[0;34m)\u001b[0m \u001b[0;32mfor\u001b[0m \u001b[0mf\u001b[0m \u001b[0;32min\u001b[0m \u001b[0mA\u001b[0m\u001b[0;34m}\u001b[0m\u001b[0;34m\u001b[0m\u001b[0;34m\u001b[0m\u001b[0m\n",
      "\u001b[0;31mAttributeError\u001b[0m: 'dict' object has no attribute '__annotations__'"
     ]
    }
   ],
   "metadata": {}
  },
  {
   "cell_type": "code",
   "execution_count": null,
   "source": [],
   "outputs": [],
   "metadata": {}
  },
  {
   "cell_type": "code",
   "execution_count": null,
   "source": [],
   "outputs": [],
   "metadata": {}
  },
  {
   "cell_type": "code",
   "execution_count": null,
   "source": [],
   "outputs": [],
   "metadata": {}
  },
  {
   "cell_type": "code",
   "execution_count": null,
   "source": [],
   "outputs": [],
   "metadata": {}
  },
  {
   "cell_type": "code",
   "execution_count": null,
   "source": [],
   "outputs": [],
   "metadata": {}
  },
  {
   "cell_type": "code",
   "execution_count": null,
   "source": [],
   "outputs": [],
   "metadata": {}
  },
  {
   "cell_type": "code",
   "execution_count": null,
   "source": [],
   "outputs": [],
   "metadata": {}
  },
  {
   "cell_type": "code",
   "execution_count": null,
   "source": [],
   "outputs": [],
   "metadata": {}
  }
 ],
 "metadata": {
  "interpreter": {
   "hash": "e7370f93d1d0cde622a1f8e1c04877d8463912d04d973331ad4851f04de6915a"
  },
  "kernelspec": {
   "name": "python3",
   "display_name": "Python 3.9.7 64-bit"
  },
  "language_info": {
   "codemirror_mode": {
    "name": "ipython",
    "version": 3
   },
   "file_extension": ".py",
   "mimetype": "text/x-python",
   "name": "python",
   "nbconvert_exporter": "python",
   "pygments_lexer": "ipython3",
   "version": "3.9.7"
  }
 },
 "nbformat": 4,
 "nbformat_minor": 4
}