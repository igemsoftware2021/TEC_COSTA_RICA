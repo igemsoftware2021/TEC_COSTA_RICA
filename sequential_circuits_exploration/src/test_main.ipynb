{
 "cells": [
  {
   "cell_type": "code",
   "execution_count": 2,
   "source": [
    "from SGCE.circuit import *\n",
    "from SGCE.constants import *\n",
    "from SGCE.sequences import *\n",
    "from SGCE.circuitsDatabase import *\n",
    "from SGCE.recombinase import *\n",
    "from SGCE.generator import *\n",
    "import numpy as np\n",
    "from itertools import permutations, product\n",
    "\n"
   ],
   "outputs": [],
   "metadata": {}
  },
  {
   "cell_type": "code",
   "execution_count": 62,
   "source": [
    "from pymongo import UpdateOne"
   ],
   "outputs": [],
   "metadata": {}
  },
  {
   "cell_type": "code",
   "execution_count": 4,
   "source": [
    "GROUP_MINIMUM"
   ],
   "outputs": [
    {
     "output_type": "execute_result",
     "data": {
      "text/plain": [
       "SequenceGroup(id=0, name='basic', sequences=[SequenceType(id=1, name='terminator', expresable=False, default_orientation=1), SequenceType(id=2, name='promoter', expresable=False, default_orientation=1)])"
      ]
     },
     "metadata": {},
     "execution_count": 4
    }
   ],
   "metadata": {}
  },
  {
   "cell_type": "code",
   "execution_count": 63,
   "source": [
    "database = CircuitDatabase(conectionString=\"mongodb://localhost:49154/\")\n",
    "# database.circuitsCollection.delete_many({});"
   ],
   "outputs": [],
   "metadata": {}
  },
  {
   "cell_type": "code",
   "execution_count": 81,
   "source": [
    "database.circuitsCollection.delete_many({});"
   ],
   "outputs": [],
   "metadata": {}
  },
  {
   "cell_type": "code",
   "execution_count": 7,
   "source": [
    "GROUP_MINIMUM_2 = seq.SequenceGroup(0, \"basic\", [TERMINATOR, PROMOTER,PROMOTER])\n",
    "\n",
    "circuit = generateCircuit(\n",
    "    [GROUP_MINIMUM_2, GROUP_RECOMBINASE_TYROSIN,])\n",
    "print(circuit, \"\\n\\n\")\n",
    "\n",
    "# circuits = [*circuitPermutations(circuit)]\n",
    "# asdict(circuits[0])"
   ],
   "outputs": [
    {
     "output_type": "stream",
     "name": "stdout",
     "text": [
      "GeneticCircuit(hash=0, sequences=[Sequence(id=1, group_id=0, orientation=1, expresable=False), Sequence(id=2, group_id=0, orientation=1, expresable=False), Sequence(id=2, group_id=0, orientation=1, expresable=False), Sequence(id=4, group_id=1, orientation=1, expresable=True), Sequence(id=7, group_id=1, orientation=1, expresable=False), Sequence(id=6, group_id=1, orientation=1, expresable=False)], sequencesGroups={'basic': [0], 'tyrosin recombinase': [1]}, expresing=[], previous_states=[], next_states=[], invalid=False, validated=True) \n",
      "\n",
      "\n"
     ]
    }
   ],
   "metadata": {}
  },
  {
   "cell_type": "code",
   "execution_count": 83,
   "source": [
    "database.circuitsCollection.insert_many([*map(asdict,circuits)]);\n"
   ],
   "outputs": [],
   "metadata": {}
  },
  {
   "cell_type": "code",
   "execution_count": 84,
   "source": [
    "for cir_n in circuits:\n",
    "    promoterValidator(circuit=cir_n)\n"
   ],
   "outputs": [],
   "metadata": {}
  },
  {
   "cell_type": "code",
   "execution_count": 107,
   "source": [
    "circuits[0]"
   ],
   "outputs": [
    {
     "output_type": "execute_result",
     "data": {
      "text/plain": [
       "GeneticCircuit(hash=-3332639392829619947, sequences=(Sequence(id=1, group_id=0, orientation=1, expresable=False), Sequence(id=2, group_id=0, orientation=1, expresable=False), Sequence(id=4, group_id=1, orientation=1, expresable=True), Sequence(id=7, group_id=1, orientation=1, expresable=False), Sequence(id=6, group_id=1, orientation=1, expresable=False)), sequencesGroups={'basic': [0], 'tyrosin recombinase': [1]}, expresing=[{'index': 2, 'promoters': [1], 'id': 4}], previous_states=[], next_states=[], invalid=False, validated=True)"
      ]
     },
     "metadata": {},
     "execution_count": 107
    }
   ],
   "metadata": {}
  },
  {
   "cell_type": "code",
   "execution_count": null,
   "source": [],
   "outputs": [],
   "metadata": {}
  },
  {
   "cell_type": "code",
   "execution_count": 108,
   "source": [
    "def updateCircuits_CircuitToUpdateOneQuery(circuit: dict, filter_key: str, upsert: bool = True, arrayOperatorsAddToset: list = []):\n",
    "    query_ilter = {filter_key:circuit.pop(filter_key)}\n",
    "    update_q = {\"$addToSet\": {}}\n",
    "    if arrayOperatorsAddToset:\n",
    "        update_q[\"$addToSet\"] = {\n",
    "            key: {\"$each\":circuit.pop(key)} for key in arrayOperatorsAddToset}\n",
    "    update_q[\"$set\"]=circuit\n",
    "    \n",
    "    return UpdateOne(filter=query_ilter, update=update_q, upsert=upsert)\n",
    "\n",
    "\n",
    "def updateCircuits_GenerateQueryList(circuitsList: list[GeneticCircuit], atributes: list[str]):\n",
    "    atributes.append(\"hash\")\n",
    "    atributesSet = set(atributes)\n",
    "    arrayOperatorsAddToset = {\"next_states\",\n",
    "                              \"previous_states\",\n",
    "                              \"expresing\"}\n",
    "    arrayOperatorsAddToset=arrayOperatorsAddToset.intersection(atributesSet)\n",
    "    funUpdateQuery = lambda circuitDict: updateCircuits_CircuitToUpdateOneQuery(circuit=circuitDict,filter_key=\"hash\",upsert=False, arrayOperatorsAddToset=arrayOperatorsAddToset)\n",
    "    circuitsDicts= [{key: circuit.__getattribute__(key) for key in atributesSet} for circuit in circuitsList]\n",
    "    return [*map(funUpdateQuery,circuitsDicts)]\n",
    "\n",
    "\n",
    "def updateCircuits(circuitsList: list[GeneticCircuit], atributes: list[str]):\n",
    "    queryList= updateCircuits_GenerateQueryList(circuitsList, atributes)\n",
    "    # for e in queryList:\n",
    "    #     print (e) \n",
    "    database.circuitsCollection.bulk_write(queryList, ordered=False) \n",
    "\n"
   ],
   "outputs": [],
   "metadata": {}
  },
  {
   "cell_type": "code",
   "execution_count": 109,
   "source": [
    "updateCircuits(circuits, [\"hash\", \"expresing\", \"validated\"])\n",
    "\n"
   ],
   "outputs": [],
   "metadata": {}
  },
  {
   "cell_type": "code",
   "execution_count": 55,
   "source": [],
   "outputs": [
    {
     "output_type": "execute_result",
     "data": {
      "text/plain": [
       "[]"
      ]
     },
     "metadata": {},
     "execution_count": 55
    }
   ],
   "metadata": {}
  },
  {
   "cell_type": "code",
   "execution_count": 110,
   "source": [
    "circuit = generateCircuit(\n",
    "    [GROUP_MINIMUM, GROUP_RECOMBINASE_TYROSIN,GROUP_RECOMBINASE_TYROSIN])\n",
    "print(circuit, \"\\n\\n\")\n",
    "\n",
    "circuits = circuitPermutations(circuit)\n"
   ],
   "outputs": [
    {
     "output_type": "stream",
     "name": "stdout",
     "text": [
      "GeneticCircuit(hash=0, sequences=[Sequence(id=1, group_id=0, orientation=1, expresable=False), Sequence(id=2, group_id=0, orientation=1, expresable=False), Sequence(id=4, group_id=1, orientation=1, expresable=True), Sequence(id=7, group_id=1, orientation=1, expresable=False), Sequence(id=6, group_id=1, orientation=1, expresable=False), Sequence(id=4, group_id=2, orientation=1, expresable=True), Sequence(id=7, group_id=2, orientation=1, expresable=False), Sequence(id=6, group_id=2, orientation=1, expresable=False)], sequencesGroups={'basic': [0], 'tyrosin recombinase': [2]}, expresing=[], previous_states=[], next_states=[], invalid=False, validated=True) \n",
      "\n",
      "\n"
     ]
    }
   ],
   "metadata": {}
  },
  {
   "cell_type": "code",
   "execution_count": 112,
   "source": [
    "database.circuitsCollection.insert_many([*map(asdict,circuits)]);\n"
   ],
   "outputs": [],
   "metadata": {}
  },
  {
   "cell_type": "code",
   "execution_count": null,
   "source": [],
   "outputs": [],
   "metadata": {}
  },
  {
   "cell_type": "code",
   "execution_count": null,
   "source": [],
   "outputs": [],
   "metadata": {}
  },
  {
   "cell_type": "code",
   "execution_count": null,
   "source": [
    "bdpst15n0tCARt4g0bdpst15n0tCART$g0\n",
    "gsegura\n",
    "bdpst15n0tCART4g0bdpst15n0t\n",
    "\n",
    "\n",
    "hasattr"
   ],
   "outputs": [],
   "metadata": {}
  },
  {
   "cell_type": "code",
   "execution_count": null,
   "source": [],
   "outputs": [],
   "metadata": {}
  },
  {
   "cell_type": "code",
   "execution_count": null,
   "source": [],
   "outputs": [],
   "metadata": {}
  },
  {
   "cell_type": "code",
   "execution_count": null,
   "source": [],
   "outputs": [],
   "metadata": {}
  },
  {
   "cell_type": "code",
   "execution_count": null,
   "source": [],
   "outputs": [],
   "metadata": {}
  }
 ],
 "metadata": {
  "orig_nbformat": 4,
  "language_info": {
   "name": "python",
   "version": "3.9.7",
   "mimetype": "text/x-python",
   "codemirror_mode": {
    "name": "ipython",
    "version": 3
   },
   "pygments_lexer": "ipython3",
   "nbconvert_exporter": "python",
   "file_extension": ".py"
  },
  "kernelspec": {
   "name": "python3",
   "display_name": "Python 3.9.7 64-bit"
  },
  "interpreter": {
   "hash": "e7370f93d1d0cde622a1f8e1c04877d8463912d04d973331ad4851f04de6915a"
  }
 },
 "nbformat": 4,
 "nbformat_minor": 2
}